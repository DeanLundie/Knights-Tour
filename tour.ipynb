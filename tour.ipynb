{
 "cells": [
  {
   "cell_type": "markdown",
   "source": [
    "# **Knight's Tour**"
   ],
   "metadata": {}
  },
  {
   "cell_type": "markdown",
   "source": [
    "## 1.1. Dependencies"
   ],
   "metadata": {}
  },
  {
   "cell_type": "code",
   "execution_count": 1,
   "source": [
    "import numpy\r\n",
    "import networkx as nx\r\n",
    "import pylab as pyl"
   ],
   "outputs": [],
   "metadata": {}
  },
  {
   "cell_type": "markdown",
   "source": [
    "## Viable Moves"
   ],
   "metadata": {}
  },
  {
   "cell_type": "code",
   "execution_count": 2,
   "source": [
    "def MoveTo(i,j,n):\r\n",
    "    knight_move=[]\r\n",
    "    if 0<=(i+1)<=n-1 and 0<=(j+2)<=n-1:\r\n",
    "        knight_move.append((i+1,j+2))\r\n",
    "    if 0<=(i-1)<=n-1 and 0<=(j+2)<=n-1:\r\n",
    "        knight_move.append((i-1,j+2))\r\n",
    "    if 0<=(i+2)<=n-1 and 0<=(j+1)<=n-1:\r\n",
    "        knight_move.append((i+2,j+1))   \r\n",
    "    if 0<=(i-2)<=n-1 and 0<=(j+1)<=n-1:\r\n",
    "        knight_move.append((i-2,j+1))   \r\n",
    "    if 0<=(i+2)<=n-1 and 0<=(j-1)<=n-1:\r\n",
    "        knight_move.append((i+2,j-1))\r\n",
    "    if 0<=(i-2)<=n-1 and 0<=(j-1)<=n-1:\r\n",
    "        knight_move.append((i-2,j-1))\r\n",
    "    if 0<=(i+1)<=n-1 and 0<=(j-2)<=n-1:\r\n",
    "        knight_move.append((i+1,j-2))\r\n",
    "    if 0<=(i-1)<=n-1 and 0<=(j-2)<=n-1:\r\n",
    "        knight_move.append((i-1,j-2))\r\n",
    "    return knight_move"
   ],
   "outputs": [],
   "metadata": {}
  },
  {
   "cell_type": "code",
   "execution_count": 7,
   "source": [
    "print(MoveTo(0,0,8))"
   ],
   "outputs": [
    {
     "output_type": "stream",
     "name": "stdout",
     "text": [
      "[(1, 2), (2, 1)]\n"
     ]
    }
   ],
   "metadata": {}
  },
  {
   "cell_type": "markdown",
   "source": [
    "## Graphing Moves"
   ],
   "metadata": {}
  },
  {
   "cell_type": "code",
   "execution_count": 3,
   "source": [
    "def MyBoard(n):\r\n",
    "    m=nx.Graph()\r\n",
    "    for i in range(0,n):\r\n",
    "        for j in range(0,n):\r\n",
    "            m.add_node((i,j))\r\n",
    "            for k in range(0,len(MoveTo(i,j,n))):\r\n",
    "                knight_move=MoveTo(i,j,n)\r\n",
    "                m.add_edge((i,j),knight_move[k])\r\n",
    "    return m"
   ],
   "outputs": [],
   "metadata": {}
  },
  {
   "cell_type": "markdown",
   "source": [
    "## Count number of moves"
   ],
   "metadata": {}
  },
  {
   "cell_type": "code",
   "execution_count": 4,
   "source": [
    "def CountMoves(m):\r\n",
    "    n=int(sqrt(m.number_of_nodes()))\r\n",
    "    arr=zeros((n,n),int)\r\n",
    "    for i in range(0,n):\r\n",
    "        for j in range(0,n):\r\n",
    "            arr[i,j]=(m.degree((i,j)))\r\n",
    "    return arr"
   ],
   "outputs": [],
   "metadata": {}
  },
  {
   "cell_type": "markdown",
   "source": [
    "## Finding the tour "
   ],
   "metadata": {}
  },
  {
   "cell_type": "code",
   "execution_count": 5,
   "source": [
    "def FindTour(i,j,n):\r\n",
    "    Bn= MyBoard(n)\r\n",
    "    curr_node=(i,j)\r\n",
    "    tour=[]\r\n",
    "    tour.append(curr_node)\r\n",
    "    while curr_node in Bn:\r\n",
    "        y=[]\r\n",
    "        Nlist=list(Bn.neighbors(curr_node))\r\n",
    "        for i in Nlist:\r\n",
    "            y.append(Bn.degree(i))\r\n",
    "        Bn.remove_node(curr_node)\r\n",
    "        if len(y)==0:\r\n",
    "            if Bn.number_of_nodes()==0:\r\n",
    "                return tour\r\n",
    "            else:\r\n",
    "                print('Could not finish the tour')\r\n",
    "        small=y.index(min(y))\r\n",
    "        curr_node=Nlist[small]\r\n",
    "        tour.append(curr_node)"
   ],
   "outputs": [],
   "metadata": {}
  },
  {
   "cell_type": "code",
   "execution_count": 6,
   "source": [
    "print(FindTour(13,9,15))"
   ],
   "outputs": [
    {
     "output_type": "error",
     "ename": "TypeError",
     "evalue": "argument of type 'NoneType' is not iterable",
     "traceback": [
      "\u001b[1;31m---------------------------------------------------------------------------\u001b[0m",
      "\u001b[1;31mTypeError\u001b[0m                                 Traceback (most recent call last)",
      "\u001b[1;32m<ipython-input-6-4b94861479b2>\u001b[0m in \u001b[0;36m<module>\u001b[1;34m\u001b[0m\n\u001b[1;32m----> 1\u001b[1;33m \u001b[0mprint\u001b[0m\u001b[1;33m(\u001b[0m\u001b[0mFindTour\u001b[0m\u001b[1;33m(\u001b[0m\u001b[1;36m13\u001b[0m\u001b[1;33m,\u001b[0m\u001b[1;36m9\u001b[0m\u001b[1;33m,\u001b[0m\u001b[1;36m15\u001b[0m\u001b[1;33m)\u001b[0m\u001b[1;33m)\u001b[0m\u001b[1;33m\u001b[0m\u001b[1;33m\u001b[0m\u001b[0m\n\u001b[0m",
      "\u001b[1;32m<ipython-input-5-ffd76b7ed7cb>\u001b[0m in \u001b[0;36mFindTour\u001b[1;34m(i, j, n)\u001b[0m\n\u001b[0;32m      4\u001b[0m     \u001b[0mtour\u001b[0m\u001b[1;33m=\u001b[0m\u001b[1;33m[\u001b[0m\u001b[1;33m]\u001b[0m\u001b[1;33m\u001b[0m\u001b[1;33m\u001b[0m\u001b[0m\n\u001b[0;32m      5\u001b[0m     \u001b[0mtour\u001b[0m\u001b[1;33m.\u001b[0m\u001b[0mappend\u001b[0m\u001b[1;33m(\u001b[0m\u001b[0mcurr_node\u001b[0m\u001b[1;33m)\u001b[0m\u001b[1;33m\u001b[0m\u001b[1;33m\u001b[0m\u001b[0m\n\u001b[1;32m----> 6\u001b[1;33m     \u001b[1;32mwhile\u001b[0m \u001b[0mcurr_node\u001b[0m \u001b[1;32min\u001b[0m \u001b[0mBn\u001b[0m\u001b[1;33m:\u001b[0m\u001b[1;33m\u001b[0m\u001b[1;33m\u001b[0m\u001b[0m\n\u001b[0m\u001b[0;32m      7\u001b[0m         \u001b[0my\u001b[0m\u001b[1;33m=\u001b[0m\u001b[1;33m[\u001b[0m\u001b[1;33m]\u001b[0m\u001b[1;33m\u001b[0m\u001b[1;33m\u001b[0m\u001b[0m\n\u001b[0;32m      8\u001b[0m         \u001b[0mNlist\u001b[0m\u001b[1;33m=\u001b[0m\u001b[0mlist\u001b[0m\u001b[1;33m(\u001b[0m\u001b[0mBn\u001b[0m\u001b[1;33m.\u001b[0m\u001b[0mneighbors\u001b[0m\u001b[1;33m(\u001b[0m\u001b[0mcurr_node\u001b[0m\u001b[1;33m)\u001b[0m\u001b[1;33m)\u001b[0m\u001b[1;33m\u001b[0m\u001b[1;33m\u001b[0m\u001b[0m\n",
      "\u001b[1;31mTypeError\u001b[0m: argument of type 'NoneType' is not iterable"
     ]
    }
   ],
   "metadata": {}
  }
 ],
 "metadata": {
  "orig_nbformat": 4,
  "language_info": {
   "name": "python",
   "version": "3.8.8",
   "mimetype": "text/x-python",
   "codemirror_mode": {
    "name": "ipython",
    "version": 3
   },
   "pygments_lexer": "ipython3",
   "nbconvert_exporter": "python",
   "file_extension": ".py"
  },
  "kernelspec": {
   "name": "python3",
   "display_name": "Python 3.8.8 64-bit ('base': conda)"
  },
  "interpreter": {
   "hash": "b3ba2566441a7c06988d0923437866b63cedc61552a5af99d1f4fb67d367b25f"
  }
 },
 "nbformat": 4,
 "nbformat_minor": 2
}